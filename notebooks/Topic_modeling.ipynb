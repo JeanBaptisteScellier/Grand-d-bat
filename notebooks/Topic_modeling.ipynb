{
 "cells": [
  {
   "cell_type": "code",
   "execution_count": 1,
   "metadata": {
    "ExecuteTime": {
     "end_time": "2019-03-14T13:13:09.835737Z",
     "start_time": "2019-03-14T13:13:08.068439Z"
    }
   },
   "outputs": [],
   "source": [
    "import pandas as pd\n",
    "import numpy as np\n",
    "import matplotlib.pyplot as plt"
   ]
  },
  {
   "cell_type": "markdown",
   "metadata": {
    "ExecuteTime": {
     "end_time": "2019-03-14T13:17:57.258885Z",
     "start_time": "2019-03-14T13:17:57.249923Z"
    }
   },
   "source": [
    "# Extraction de thèmes sur les questions d'immigration"
   ]
  },
  {
   "cell_type": "markdown",
   "metadata": {
    "ExecuteTime": {
     "end_time": "2019-03-14T13:18:11.293986Z",
     "start_time": "2019-03-14T13:18:11.286666Z"
    }
   },
   "source": [
    "Il y a 4 questions sur le sujet de l'immigration : \n",
    "\n",
    "'Q141 - Que pensez-vous de la situation de l'immigration en France aujourd'hui et de la politique migratoire ? Quelles sont, selon vous, les critères à mettre en place pour définir la politique migratoire ?'\n",
    "\n",
    "'Q142 - En matière d'immigration, une fois nos obligations d'asile remplies, souhaitez-vous que nous puissions nous fixer des objectifs annuels définis par le Parlement ?'\n",
    "\n",
    "'Q143 - Que proposez-vous afin de répondre à ce défi qui va durer ?'\n",
    "\n",
    "'Q144 - Quelles sont, selon vous, les modalités d'intégration les plus efficaces et les plus justes à mettre en place aujourd'hui dans la société ?'"
   ]
  },
  {
   "cell_type": "code",
   "execution_count": 2,
   "metadata": {
    "ExecuteTime": {
     "end_time": "2019-03-14T13:13:19.818276Z",
     "start_time": "2019-03-14T13:13:16.799190Z"
    }
   },
   "outputs": [],
   "source": [
    "df = pd.read_csv('../data/DEMOCRATIE_ET_CITOYENNETE.csv', index_col=0)"
   ]
  },
  {
   "cell_type": "code",
   "execution_count": 20,
   "metadata": {
    "ExecuteTime": {
     "end_time": "2019-03-14T13:35:50.486398Z",
     "start_time": "2019-03-14T13:35:50.176302Z"
    }
   },
   "outputs": [],
   "source": [
    "texts = (df.iloc[:, -2]+' '+df.iloc[:, -3]+' '+df.iloc[:, -4]+' '+df.iloc[:, -5]).dropna().apply(lambda x: x.lower()).values\n"
   ]
  },
  {
   "cell_type": "code",
   "execution_count": 22,
   "metadata": {
    "ExecuteTime": {
     "end_time": "2019-03-14T13:37:17.185762Z",
     "start_time": "2019-03-14T13:37:11.546578Z"
    },
    "scrolled": true
   },
   "outputs": [],
   "source": [
    "from sklearn.feature_extraction.text import TfidfVectorizer, CountVectorizer\n",
    "\n",
    "no_features = 1000\n",
    "stop_words = ['le', 'la', 'ces', 'oui', 'est', 'de', 'qui', 'et', 'se', 'il', 'pour', 'un', 'des', 'une', 'sur', 'ou', 'je', 'les', 'que', 'dans', 'suis', 'sont', 'au', 'en', 'on', 'par', 'ai', 'du', 'ce', 'mais', 'ne', 'pas', 'plus', 'qu', 'être', 'leur', 'aux', 'mon', 'moi', 'me', 'ma', 'son', 'avoir', 'car', 'nous', 'ils', 'etc', 'vous', 'faire', 'si']\n",
    "\n",
    "# NMF is able to use tf-idf\n",
    "tfidf_vectorizer = TfidfVectorizer(max_df=0.95, min_df=2, max_features=no_features, stop_words=stop_words)\n",
    "tfidf = tfidf_vectorizer.fit_transform(texts)\n",
    "tfidf_feature_names = tfidf_vectorizer.get_feature_names()\n",
    "\n",
    "# LDA can only use raw term counts for LDA because it is a probabilistic graphical model\n",
    "tf_vectorizer = CountVectorizer(max_df=0.95, min_df=2, max_features=no_features, stop_words=stop_words)\n",
    "tf = tf_vectorizer.fit_transform(texts)\n",
    "tf_feature_names = tf_vectorizer.get_feature_names()"
   ]
  },
  {
   "cell_type": "code",
   "execution_count": null,
   "metadata": {
    "ExecuteTime": {
     "start_time": "2019-03-14T13:37:12.519Z"
    }
   },
   "outputs": [
    {
     "name": "stderr",
     "output_type": "stream",
     "text": [
      "/anaconda3/lib/python3.6/site-packages/sklearn/decomposition/online_lda.py:314: DeprecationWarning: n_topics has been renamed to n_components in version 0.19 and will be removed in 0.21\n",
      "  DeprecationWarning)\n"
     ]
    }
   ],
   "source": [
    "from sklearn.decomposition import NMF, LatentDirichletAllocation\n",
    "\n",
    "no_topics = 10\n",
    "\n",
    "# Run NMF\n",
    "nmf = NMF(n_components=no_topics, random_state=1, alpha=.1, l1_ratio=.5, init='nndsvd').fit(tfidf)\n",
    "\n",
    "# Run LDA\n",
    "lda = LatentDirichletAllocation(n_topics=no_topics, max_iter=5, learning_method='online', learning_offset=50.,random_state=0).fit(tf)"
   ]
  },
  {
   "cell_type": "code",
   "execution_count": 12,
   "metadata": {
    "ExecuteTime": {
     "end_time": "2019-03-14T13:23:44.132691Z",
     "start_time": "2019-03-14T13:23:44.114479Z"
    },
    "scrolled": true
   },
   "outputs": [
    {
     "name": "stdout",
     "output_type": "stream",
     "text": [
      "Topic 0:\n",
      "est france elle problème bien cela comme doit fait question cette tout même politique très avec sans peut donc situation\n",
      "Topic 1:\n",
      "français droit asile france trop nationalité étrangers aides sol française immigrés regroupement familial parler obligation ans frontières supprimer doit sociales\n",
      "Topic 2:\n",
      "pays aider origine développement leurs aide avec développer guerre retour économique pauvres concernés populations europe afrique départ afin autres émigration\n",
      "Topic 3:\n",
      "politique accueil langue intégration apprentissage formation française migratoire avec éducation oui emploi européenne travail non doit logement critères niveau réfugiés\n",
      "Topic 4:\n",
      "immigration choisie économique faut stopper limiter trop non oui clandestine illégale subie canada frontières immigrés zéro contre contrôlée légale politique\n",
      "Topic 5:\n",
      "notre nos valeurs lois langue respect culture vie respecter société république coutumes histoire mode pays apprendre besoins règles accepter obligations\n",
      "Topic 6:\n",
      "faut accueillir monde gens personnes chez peut travail eux intégrer ceux tout france misère immigrés donner toute vivre arrêter tous\n",
      "Topic 7:\n",
      "quotas besoins oui fonction travail mettre place canada comme selon main instaurer économiques oeuvre dessus définir voir ci nos fixer\n",
      "Topic 8:\n",
      "sais oui rien pense sujet trop difficile pourquoi école répondre ça très comment apprendre gens peut problème aide question bonne\n",
      "Topic 9:\n",
      "migrants économiques accueillir accueil migrant france français non accepter associations mieux tous travailler intégrer où aides doivent laisser donner nombre\n",
      "Topic 0:\n",
      "besoins fonction formation oui ci voir dessus accueil main quotas oeuvre avec nos droits migrants compétences travail besoin économiques emploi\n",
      "Topic 1:\n",
      "est france français doit pays immigration comme ans tout avec française personne sans nationalité elle sa cas toute territoire ses\n",
      "Topic 2:\n",
      "langue intégration apprentissage oui pays valeurs française accueil notre république français respect migrants formation immigrés avec culture faut doit place\n",
      "Topic 3:\n",
      "est politique immigration migratoire doit avec question intégration cette européenne france niveau notre faut sujet situation elle pays économique sans\n",
      "Topic 4:\n",
      "asile pays migrants est faut droit immigrés france ceux sans demandeurs obligations trop tous ont aides immigration etre français leurs\n",
      "Topic 5:\n",
      "immigration droit frontières oui quotas pays asile sol regroupement familial mettre nationalité place française étrangers supprimer contrôle trop comme choisie\n",
      "Topic 6:\n",
      "pays aider migrants leurs développement origine avec aide faut développer france populations non contre guerre eux économique afrique oui chez\n",
      "Topic 7:\n",
      "est faut france bien non gens tout peut accueillir cela pays ont migrants comme personnes tous fait même problème monde\n",
      "Topic 8:\n",
      "notre nos pays faut france accueillir français est personnes monde intégrer oui ceux travail peut apprendre vie vivre langue chez\n",
      "Topic 9:\n",
      "immigration travail oui français choisie aides avec non obligation regroupement familial sociales cours obligatoire intégration service civique limiter ans logement\n"
     ]
    }
   ],
   "source": [
    "def display_topics(model, feature_names, no_top_words):\n",
    "    for topic_idx, topic in enumerate(model.components_):\n",
    "        print(\"Topic %d:\" % (topic_idx))\n",
    "        print(\" \".join([feature_names[i] for i in topic.argsort()[:-no_top_words - 1:-1]]))\n",
    "\n",
    "no_top_words = 20\n",
    "display_topics(nmf, tfidf_feature_names, no_top_words)\n",
    "display_topics(lda, tf_feature_names, no_top_words)"
   ]
  },
  {
   "cell_type": "code",
   "execution_count": 110,
   "metadata": {
    "ExecuteTime": {
     "end_time": "2019-03-13T22:45:31.499831Z",
     "start_time": "2019-03-13T22:45:28.242161Z"
    },
    "scrolled": true
   },
   "outputs": [
    {
     "name": "stderr",
     "output_type": "stream",
     "text": [
      "/anaconda3/lib/python3.6/site-packages/numpy/core/fromnumeric.py:51: FutureWarning: \n",
      "The current behaviour of 'Series.argmax' is deprecated, use 'idxmax'\n",
      "instead.\n",
      "The behavior of 'argmax' will be corrected to return the positional\n",
      "maximum in the future. For now, use 'series.values.argmax' or\n",
      "'np.argmax(np.array(values))' to get the position of the maximum\n",
      "row.\n",
      "  return getattr(obj, method)(*args, **kwds)\n"
     ]
    }
   ],
   "source": [
    "first_topic = pd.DataFrame(nmf.transform(tfidf)).apply(np.argmax, axis=1)"
   ]
  },
  {
   "cell_type": "code",
   "execution_count": 111,
   "metadata": {
    "ExecuteTime": {
     "end_time": "2019-03-13T22:45:32.291405Z",
     "start_time": "2019-03-13T22:45:32.281615Z"
    }
   },
   "outputs": [
    {
     "data": {
      "text/plain": [
       "0    6727\n",
       "1    2757\n",
       "2    4177\n",
       "3    2462\n",
       "4    1981\n",
       "5    1652\n",
       "6    1475\n",
       "7    1861\n",
       "8     738\n",
       "9    2920\n",
       "dtype: int64"
      ]
     },
     "execution_count": 111,
     "metadata": {},
     "output_type": "execute_result"
    }
   ],
   "source": [
    "first_topic.groupby(first_topic.values).count()"
   ]
  },
  {
   "cell_type": "code",
   "execution_count": 112,
   "metadata": {
    "ExecuteTime": {
     "end_time": "2019-03-13T22:45:35.110461Z",
     "start_time": "2019-03-13T22:45:34.993464Z"
    },
    "scrolled": true
   },
   "outputs": [
    {
     "name": "stderr",
     "output_type": "stream",
     "text": [
      "/anaconda3/lib/python3.6/site-packages/numpy/core/fromnumeric.py:51: FutureWarning: \n",
      "The current behaviour of 'Series.argmax' is deprecated, use 'idxmax'\n",
      "instead.\n",
      "The behavior of 'argmax' will be corrected to return the positional\n",
      "maximum in the future. For now, use 'series.values.argmax' or\n",
      "'np.argmax(np.array(values))' to get the position of the maximum\n",
      "row.\n",
      "  return getattr(obj, method)(*args, **kwds)\n"
     ]
    },
    {
     "data": {
      "text/plain": [
       "0     2575\n",
       "1    16273\n",
       "2    20422\n",
       "3    20273\n",
       "4    19584\n",
       "5    21747\n",
       "6    18007\n",
       "7     2370\n",
       "8      285\n",
       "9    20377\n",
       "dtype: int64"
      ]
     },
     "execution_count": 112,
     "metadata": {},
     "output_type": "execute_result"
    }
   ],
   "source": [
    "pd.DataFrame(nmf.transform(tfidf)).apply(np.argmax)"
   ]
  }
 ],
 "metadata": {
  "kernelspec": {
   "display_name": "Python 3",
   "language": "python",
   "name": "python3"
  },
  "language_info": {
   "codemirror_mode": {
    "name": "ipython",
    "version": 3
   },
   "file_extension": ".py",
   "mimetype": "text/x-python",
   "name": "python",
   "nbconvert_exporter": "python",
   "pygments_lexer": "ipython3",
   "version": "3.6.8"
  },
  "toc": {
   "base_numbering": 1,
   "nav_menu": {},
   "number_sections": true,
   "sideBar": true,
   "skip_h1_title": false,
   "title_cell": "Table of Contents",
   "title_sidebar": "Contents",
   "toc_cell": false,
   "toc_position": {},
   "toc_section_display": true,
   "toc_window_display": false
  },
  "varInspector": {
   "cols": {
    "lenName": 16,
    "lenType": 16,
    "lenVar": 40
   },
   "kernels_config": {
    "python": {
     "delete_cmd_postfix": "",
     "delete_cmd_prefix": "del ",
     "library": "var_list.py",
     "varRefreshCmd": "print(var_dic_list())"
    },
    "r": {
     "delete_cmd_postfix": ") ",
     "delete_cmd_prefix": "rm(",
     "library": "var_list.r",
     "varRefreshCmd": "cat(var_dic_list()) "
    }
   },
   "types_to_exclude": [
    "module",
    "function",
    "builtin_function_or_method",
    "instance",
    "_Feature"
   ],
   "window_display": false
  }
 },
 "nbformat": 4,
 "nbformat_minor": 2
}
